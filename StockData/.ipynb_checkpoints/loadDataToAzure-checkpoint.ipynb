{
 "cells": [
  {
   "cell_type": "markdown",
   "metadata": {},
   "source": [
    "# All cleansed data from  local PostgreSQL to Azure Cloud Postgre SQL\n",
    "\n",
    "\n",
    "### Opens the connection and extracts the stocks data from local postgreSQL and loads the same to Azure cloud enviornment's postgreSQL\n",
    "\n",
    "#### Author: Rohan Indrajeet Jadhav [x20169043@studemt.ncirl.ie]\n",
    "\n",
    "#### Contents\n",
    "\n",
    "1. Read the data from Local postgre SQL DB\n",
    "2. Format the data based on requirement\n",
    "3. Open the Connection to Azure postgreSQL\n",
    "4. Load the data to Azure PostgreSQL"
   ]
  },
  {
   "cell_type": "code",
   "execution_count": 1,
   "metadata": {},
   "outputs": [],
   "source": [
    "# Importing the required libraries\n",
    "\n",
    "import pymongo\n",
    "from pprint import pprint  \n",
    "import pandas as pd\n",
    "import yfinance as yf\n",
    "import psycopg2\n",
    "\n",
    "from pandas_datareader import data, wb\n",
    "import numpy as np\n",
    "import datetime\n",
    "import warnings\n",
    "import psycopg2.extras as extras"
   ]
  },
  {
   "cell_type": "code",
   "execution_count": 2,
   "metadata": {},
   "outputs": [],
   "source": [
    "\n",
    "# Variables to connect zure based postgreSQL\n",
    "\n",
    "host = \"postgresqlserver11.postgres.database.azure.com\"\n",
    "dbname = \"covidstockanalysis\"\n",
    "user = \"covidstock@postgresqlserver11\"\n",
    "password = \"rjadha14!123\"\n",
    "sslmode=\"require\"\n"
   ]
  },
  {
   "cell_type": "code",
   "execution_count": 3,
   "metadata": {},
   "outputs": [
    {
     "name": "stdout",
     "output_type": "stream",
     "text": [
      "Connection established\n"
     ]
    }
   ],
   "source": [
    "\n",
    "# Construct connection string for azure SQL\n",
    "try:\n",
    "    conn_string = \"host={0} user={1} dbname={2} password={3} sslmode={4}\".format(host, user, dbname, password, sslmode)\n",
    "    azureConnection = psycopg2.connect(conn_string)\n",
    "    print(\"Connection established\")\n",
    "    psycopg2.__version__\n",
    "    azureConnection.autocommit = True\n",
    "except:\n",
    "    print(\"Connection error please check connection variables\")\n"
   ]
  },
  {
   "cell_type": "code",
   "execution_count": 4,
   "metadata": {},
   "outputs": [
    {
     "name": "stdout",
     "output_type": "stream",
     "text": [
      "Error in creating table: Check if table is present already \n"
     ]
    }
   ],
   "source": [
    "# Create a table on cloud postgreSQL\n",
    "\n",
    "azureCursor = azureConnection.cursor()\n",
    "azureConnection = psycopg2.connect(conn_string)\n",
    "\n",
    "createtableSql = \"\"\"CREATE TABLE stockdata\n",
    "(\n",
    "    stockname character varying(50) COLLATE pg_catalog.\"default\",\n",
    "    countryname character varying(50) COLLATE pg_catalog.\"default\",\n",
    "    stockdate date NOT NULL,\n",
    "    openvalue numeric(10,4),\n",
    "    closevalue numeric(10,4),\n",
    "    high numeric(10,4),\n",
    "    low numeric(10,4),\n",
    "    adjclose numeric(10,4),\n",
    "    volume integer\n",
    ");\"\"\"\n",
    "\n",
    "try:\n",
    "    azureCursor.execute(createtableSql)\n",
    "    print(\"Azure table \")\n",
    "except:\n",
    "    print(\"Error in creating table: Check if table is present already \")\n",
    "    \n",
    "\n",
    "#azureCursor.close()\n",
    "#azureConnection.close()"
   ]
  },
  {
   "cell_type": "code",
   "execution_count": 5,
   "metadata": {},
   "outputs": [
    {
     "name": "stdout",
     "output_type": "stream",
     "text": [
      "Database opened successfully\n"
     ]
    },
    {
     "data": {
      "text/html": [
       "<div>\n",
       "<style scoped>\n",
       "    .dataframe tbody tr th:only-of-type {\n",
       "        vertical-align: middle;\n",
       "    }\n",
       "\n",
       "    .dataframe tbody tr th {\n",
       "        vertical-align: top;\n",
       "    }\n",
       "\n",
       "    .dataframe thead th {\n",
       "        text-align: right;\n",
       "    }\n",
       "</style>\n",
       "<table border=\"1\" class=\"dataframe\">\n",
       "  <thead>\n",
       "    <tr style=\"text-align: right;\">\n",
       "      <th></th>\n",
       "      <th>stockName</th>\n",
       "      <th>countryName</th>\n",
       "      <th>stockDate</th>\n",
       "      <th>openValue</th>\n",
       "      <th>closeValue</th>\n",
       "      <th>high</th>\n",
       "      <th>low</th>\n",
       "      <th>adjClose</th>\n",
       "      <th>volume</th>\n",
       "    </tr>\n",
       "  </thead>\n",
       "  <tbody>\n",
       "    <tr>\n",
       "      <th>0</th>\n",
       "      <td>CGIX</td>\n",
       "      <td>Austria</td>\n",
       "      <td>2019-11-01</td>\n",
       "      <td>3.120000</td>\n",
       "      <td>3.160000</td>\n",
       "      <td>3.368000</td>\n",
       "      <td>2.921600</td>\n",
       "      <td>3.160000</td>\n",
       "      <td>215370.0</td>\n",
       "    </tr>\n",
       "    <tr>\n",
       "      <th>1</th>\n",
       "      <td>CGIX</td>\n",
       "      <td>Austria</td>\n",
       "      <td>2019-11-04</td>\n",
       "      <td>3.180000</td>\n",
       "      <td>3.430000</td>\n",
       "      <td>3.580000</td>\n",
       "      <td>3.120000</td>\n",
       "      <td>3.430000</td>\n",
       "      <td>324657.0</td>\n",
       "    </tr>\n",
       "    <tr>\n",
       "      <th>2</th>\n",
       "      <td>CGIX</td>\n",
       "      <td>Austria</td>\n",
       "      <td>2019-11-05</td>\n",
       "      <td>3.490000</td>\n",
       "      <td>3.330000</td>\n",
       "      <td>3.800000</td>\n",
       "      <td>3.270000</td>\n",
       "      <td>3.330000</td>\n",
       "      <td>307128.0</td>\n",
       "    </tr>\n",
       "    <tr>\n",
       "      <th>3</th>\n",
       "      <td>CGIX</td>\n",
       "      <td>Austria</td>\n",
       "      <td>2019-11-06</td>\n",
       "      <td>3.290000</td>\n",
       "      <td>3.080000</td>\n",
       "      <td>3.320000</td>\n",
       "      <td>3.020000</td>\n",
       "      <td>3.080000</td>\n",
       "      <td>99570.0</td>\n",
       "    </tr>\n",
       "    <tr>\n",
       "      <th>4</th>\n",
       "      <td>CGIX</td>\n",
       "      <td>Austria</td>\n",
       "      <td>2019-11-07</td>\n",
       "      <td>3.070000</td>\n",
       "      <td>3.000000</td>\n",
       "      <td>3.100000</td>\n",
       "      <td>2.860000</td>\n",
       "      <td>3.000000</td>\n",
       "      <td>113341.0</td>\n",
       "    </tr>\n",
       "    <tr>\n",
       "      <th>...</th>\n",
       "      <td>...</td>\n",
       "      <td>...</td>\n",
       "      <td>...</td>\n",
       "      <td>...</td>\n",
       "      <td>...</td>\n",
       "      <td>...</td>\n",
       "      <td>...</td>\n",
       "      <td>...</td>\n",
       "      <td>...</td>\n",
       "    </tr>\n",
       "    <tr>\n",
       "      <th>9405</th>\n",
       "      <td>VEA</td>\n",
       "      <td>European</td>\n",
       "      <td>2021-04-19</td>\n",
       "      <td>51.410000</td>\n",
       "      <td>51.220001</td>\n",
       "      <td>51.459999</td>\n",
       "      <td>51.110001</td>\n",
       "      <td>51.220001</td>\n",
       "      <td>15499900.0</td>\n",
       "    </tr>\n",
       "    <tr>\n",
       "      <th>9406</th>\n",
       "      <td>VEA</td>\n",
       "      <td>European</td>\n",
       "      <td>2021-04-20</td>\n",
       "      <td>50.740002</td>\n",
       "      <td>50.369999</td>\n",
       "      <td>50.779999</td>\n",
       "      <td>50.279999</td>\n",
       "      <td>50.369999</td>\n",
       "      <td>11657400.0</td>\n",
       "    </tr>\n",
       "    <tr>\n",
       "      <th>9407</th>\n",
       "      <td>VEA</td>\n",
       "      <td>European</td>\n",
       "      <td>2021-04-21</td>\n",
       "      <td>50.250000</td>\n",
       "      <td>50.830002</td>\n",
       "      <td>50.860001</td>\n",
       "      <td>50.209999</td>\n",
       "      <td>50.830002</td>\n",
       "      <td>11195800.0</td>\n",
       "    </tr>\n",
       "    <tr>\n",
       "      <th>9408</th>\n",
       "      <td>VEA</td>\n",
       "      <td>European</td>\n",
       "      <td>2021-04-22</td>\n",
       "      <td>50.919998</td>\n",
       "      <td>50.619999</td>\n",
       "      <td>50.959999</td>\n",
       "      <td>50.549999</td>\n",
       "      <td>50.619999</td>\n",
       "      <td>9660600.0</td>\n",
       "    </tr>\n",
       "    <tr>\n",
       "      <th>9409</th>\n",
       "      <td>VEA</td>\n",
       "      <td>European</td>\n",
       "      <td>2021-04-23</td>\n",
       "      <td>50.860001</td>\n",
       "      <td>51.134998</td>\n",
       "      <td>51.136799</td>\n",
       "      <td>50.840000</td>\n",
       "      <td>51.134998</td>\n",
       "      <td>3969804.0</td>\n",
       "    </tr>\n",
       "  </tbody>\n",
       "</table>\n",
       "<p>9410 rows × 9 columns</p>\n",
       "</div>"
      ],
      "text/plain": [
       "     stockName countryName   stockDate  openValue  closeValue       high  \\\n",
       "0         CGIX     Austria  2019-11-01   3.120000    3.160000   3.368000   \n",
       "1         CGIX     Austria  2019-11-04   3.180000    3.430000   3.580000   \n",
       "2         CGIX     Austria  2019-11-05   3.490000    3.330000   3.800000   \n",
       "3         CGIX     Austria  2019-11-06   3.290000    3.080000   3.320000   \n",
       "4         CGIX     Austria  2019-11-07   3.070000    3.000000   3.100000   \n",
       "...        ...         ...         ...        ...         ...        ...   \n",
       "9405       VEA    European  2021-04-19  51.410000   51.220001  51.459999   \n",
       "9406       VEA    European  2021-04-20  50.740002   50.369999  50.779999   \n",
       "9407       VEA    European  2021-04-21  50.250000   50.830002  50.860001   \n",
       "9408       VEA    European  2021-04-22  50.919998   50.619999  50.959999   \n",
       "9409       VEA    European  2021-04-23  50.860001   51.134998  51.136799   \n",
       "\n",
       "            low   adjClose      volume  \n",
       "0      2.921600   3.160000    215370.0  \n",
       "1      3.120000   3.430000    324657.0  \n",
       "2      3.270000   3.330000    307128.0  \n",
       "3      3.020000   3.080000     99570.0  \n",
       "4      2.860000   3.000000    113341.0  \n",
       "...         ...        ...         ...  \n",
       "9405  51.110001  51.220001  15499900.0  \n",
       "9406  50.279999  50.369999  11657400.0  \n",
       "9407  50.209999  50.830002  11195800.0  \n",
       "9408  50.549999  50.619999   9660600.0  \n",
       "9409  50.840000  51.134998   3969804.0  \n",
       "\n",
       "[9410 rows x 9 columns]"
      ]
     },
     "execution_count": 5,
     "metadata": {},
     "output_type": "execute_result"
    }
   ],
   "source": [
    "recordCounter = 0\n",
    "localConnection = psycopg2.connect(database=\"postgres\", user=\"postgres\", password=\"Optum@2021\", host=\"127.0.0.1\", port=\"5432\")\n",
    "print(\"Database opened successfully\")\n",
    "localCursor = localConnection.cursor()\n",
    "\n",
    "#columnNames = []\n",
    "#for col in localCursor.description:\n",
    "#    columnNames.append(col[0])\n",
    "#print(columnNames)\n",
    "\n",
    "columnNames = ['stockName', 'countryName', 'stockDate', 'openValue', 'closeValue', 'high', 'low', 'adjClose', 'volume']\n",
    "extractSQL = \"SELECT * from stockdata\"\n",
    "\n",
    "\n",
    "\n",
    "localCursor.execute(extractSQL)\n",
    "\n",
    "rows = localCursor.fetchall()\n",
    "\n",
    "df = pd.DataFrame(rows,columns=columnNames)\n",
    "\n",
    "df"
   ]
  },
  {
   "cell_type": "code",
   "execution_count": 6,
   "metadata": {},
   "outputs": [
    {
     "name": "stdout",
     "output_type": "stream",
     "text": [
      "Connection established to azure postgreSQL\n"
     ]
    }
   ],
   "source": [
    "conn_string = \"host={0} user={1} dbname={2} password={3} sslmode={4}\".format(host, user, dbname, password, sslmode)\n",
    "azureConnection = psycopg2.connect(conn_string)\n",
    "print(\"Connection established to azure postgreSQL\")"
   ]
  },
  {
   "cell_type": "code",
   "execution_count": 7,
   "metadata": {},
   "outputs": [],
   "source": [
    "def azure_insert_rows(connection,df, table):\n",
    "\n",
    "    azureCursor = azureConnection.cursor()\n",
    "    # Create a list of tupples from the dataframe values\n",
    "    tuples = [tuple(x) for x in df.to_numpy()]\n",
    "    \n",
    "    # Comma-separated dataframe columns\n",
    "    cols = ','.join(list(df.columns))\n",
    "    \n",
    "    azureCursor = azureConnection.cursor()\n",
    "    \n",
    "    truncateSQL = \"truncate table {0}\".format(table)\n",
    "    \n",
    "    query  = \"INSERT INTO %s(%s) VALUES %%s\" % (table, cols)\n",
    "    try:\n",
    "        azureCursor.execute(truncateSQL)\n",
    "        extras.execute_values(azureCursor, query, tuples)\n",
    "        azureConnection.commit()\n",
    "    except (Exception, psycopg2.DatabaseError) as error:\n",
    "        print(\"Error: %s\" % error)\n",
    "        azureConnection.rollback()\n",
    "        azureCursor.close()\n",
    "        return 1\n",
    "    print(\"Records are inserted successfully !!\")\n",
    "    azureCursor.close()"
   ]
  },
  {
   "cell_type": "code",
   "execution_count": 8,
   "metadata": {},
   "outputs": [
    {
     "name": "stdout",
     "output_type": "stream",
     "text": [
      "Error: cannot convert NaN to integer\n",
      "\n"
     ]
    },
    {
     "data": {
      "text/plain": [
       "1"
      ]
     },
     "execution_count": 8,
     "metadata": {},
     "output_type": "execute_result"
    }
   ],
   "source": [
    "azure_insert_rows(azureConnection, df ,\"stockdata\")"
   ]
  },
  {
   "cell_type": "code",
   "execution_count": null,
   "metadata": {},
   "outputs": [],
   "source": [
    "%run ./read_from_mongoDB.ipynb"
   ]
  }
 ],
 "metadata": {
  "kernelspec": {
   "display_name": "Python 3",
   "language": "python",
   "name": "python3"
  },
  "language_info": {
   "codemirror_mode": {
    "name": "ipython",
    "version": 3
   },
   "file_extension": ".py",
   "mimetype": "text/x-python",
   "name": "python",
   "nbconvert_exporter": "python",
   "pygments_lexer": "ipython3",
   "version": "3.8.5"
  }
 },
 "nbformat": 4,
 "nbformat_minor": 4
}
